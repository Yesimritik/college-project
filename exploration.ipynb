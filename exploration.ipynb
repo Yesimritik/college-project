{
 "cells": [
  {
   "cell_type": "code",
   "execution_count": null,
   "id": "2e676e75",
   "metadata": {
    "vscode": {
     "languageId": "plaintext"
    }
   },
   "outputs": [],
   "source": [
    "# Ford GoBike System Data Exploration\n",
    "## by Ayanwoye Gideon Ayandele\n",
    "\n",
    "## Preliminary Wrangling\n",
    "\n",
    "> This document explores a dataset with information about individual rides made\n",
    "in a bike-sharing system covering the greater San Francisco\n",
    "Bay area in 2019"
   ]
  }
 ],
 "metadata": {
  "language_info": {
   "name": "python"
  }
 },
 "nbformat": 4,
 "nbformat_minor": 5
}
