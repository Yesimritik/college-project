{
 "cells": [
  {
   "cell_type": "code",
   "execution_count": null,
   "id": "d8a3d650",
   "metadata": {
    "vscode": {
     "languageId": "plaintext"
    }
   },
   "outputs": [],
   "source": [
    "# Ford GoBike System Data Exploration\n",
    "## by Ayanwoye Gideon Ayandele"
   ]
  }
 ],
 "metadata": {
  "language_info": {
   "name": "python"
  }
 },
 "nbformat": 4,
 "nbformat_minor": 5
}
